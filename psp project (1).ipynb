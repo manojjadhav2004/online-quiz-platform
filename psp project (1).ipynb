{
 "cells": [
  {
   "cell_type": "code",
   "execution_count": 23,
   "id": "c18508eb-db9b-40b3-94ea-0f153a542059",
   "metadata": {},
   "outputs": [
    {
     "name": "stdout",
     "output_type": "stream",
     "text": [
      "WELCOME TO ONLLINE QUIZE\n"
     ]
    },
    {
     "name": "stdin",
     "output_type": "stream",
     "text": [
      "how many questions do you want to solve 5\n"
     ]
    },
    {
     "name": "stdout",
     "output_type": "stream",
     "text": [
      "Choose the subject for quiz\n",
      "1.PYTHON\n",
      "2.FDS\n",
      "3.C Language\n"
     ]
    },
    {
     "name": "stdin",
     "output_type": "stream",
     "text": [
      "Enter your choice:  3\n"
     ]
    },
    {
     "name": "stdout",
     "output_type": "stream",
     "text": [
      "\n",
      "Choose level of QUESTIONS\n",
      "1.EASY\n",
      "2.MEDIUM\n",
      "3.HARD\n"
     ]
    },
    {
     "name": "stdin",
     "output_type": "stream",
     "text": [
      "Enter your choice:  1\n"
     ]
    },
    {
     "name": "stdout",
     "output_type": "stream",
     "text": [
      "\n",
      "1 What does the `print()` function do in Python?\n",
      "\tA Reads user input\n",
      "\tB Prints output to the console\n",
      "\tC Performs mathematical calculations\n",
      "\tD Defines a variable\n"
     ]
    },
    {
     "name": "stdin",
     "output_type": "stream",
     "text": [
      "Enter your answer:  a\n"
     ]
    },
    {
     "name": "stdout",
     "output_type": "stream",
     "text": [
      "Incorrect!\n",
      "Correct answer is  B\n",
      "\n",
      "2 Which symbol is used for single-line comments in Python?\n",
      "\tA //\n",
      "\tB #\n",
      "\tC ?\n",
      "\tD /* */\n"
     ]
    },
    {
     "name": "stdin",
     "output_type": "stream",
     "text": [
      "Enter your answer:  a\n"
     ]
    },
    {
     "name": "stdout",
     "output_type": "stream",
     "text": [
      "Incorrect!\n",
      "Correct answer is  B\n",
      "\n",
      "3 What is the correct way to declare a variable in Python?\n",
      "\tA variable x = 5\n",
      "\tB  x = 5\n",
      "\tC int x = 5\n",
      "\tD declare x = 5\n"
     ]
    },
    {
     "name": "stdin",
     "output_type": "stream",
     "text": [
      "Enter your answer:  b\n"
     ]
    },
    {
     "name": "stdout",
     "output_type": "stream",
     "text": [
      "Correct!\n",
      "\n",
      "4 How do you check the length of a list named `my_list` in Python?\n",
      "\tA len(my_list)\n",
      "\tB size(my_list)\n",
      "\tC length(my_list)\n",
      "\tD my_list.length()\n"
     ]
    },
    {
     "name": "stdin",
     "output_type": "stream",
     "text": [
      "Enter your answer:  cc\n"
     ]
    },
    {
     "name": "stdout",
     "output_type": "stream",
     "text": [
      "Invalid Choice\n",
      "\n",
      "5 Which keyword is used to define a function in Python?\n",
      "\tA define\n",
      "\tB func\n",
      "\tC def\n",
      "\tD function\n"
     ]
    },
    {
     "name": "stdin",
     "output_type": "stream",
     "text": [
      "Enter your answer:  a\n"
     ]
    },
    {
     "name": "stdout",
     "output_type": "stream",
     "text": [
      "Incorrect!\n",
      "Correct answer is  C\n",
      "Out of 10 \n",
      "correctly answered questions are 1\n",
      "incorrectly answered questions are 3\n",
      "YOUR SCORE ARE 10/100\n"
     ]
    },
    {
     "name": "stdin",
     "output_type": "stream",
     "text": [
      "DO YOU ENJOY THE QUIZE PLEASE GIVE YOUR FEEDBACK.... go9od\n"
     ]
    },
    {
     "name": "stdout",
     "output_type": "stream",
     "text": [
      "THANK YOU.........\n"
     ]
    }
   ],
   "source": [
    "print(\"WELCOME TO ONLLINE QUIZE\")\n",
    "import pandas as pd\n",
    "#SUBJECT choice \n",
    "def sub():\n",
    "    print(\"Choose the subject for quiz\")\n",
    "    print(\"1.PYTHON\\n2.FDS\\n3.C Language\")\n",
    "    subject=int(input(\"Enter your choice: \"))\n",
    "    if(subject==1):\n",
    "        return level1()\n",
    "    elif(subject==2):\n",
    "        return level2()\n",
    "    elif(subject==3):\n",
    "        return level3()\n",
    "    else:\n",
    "        print(\"Invalid choice. Please enter a valid level.\")\n",
    "        return None\n",
    "\n",
    "#PYTHON QUESTION LEVEL CHOICE\n",
    "def level1():\n",
    "    print(\"\\nChoose level of QUESTIONS\")\n",
    "    print(\"1.EASY\\n2.MEDIUM\\n3.HARD\")\n",
    "    lev = int(input(\"Enter your choice: \"))\n",
    "    if lev == 1:\n",
    "        return pd.read_excel(\"C:\\\\Users\\\\Mr.Jadhav\\\\Desktop\\\\PythonDatabase.xlsx\", \"PYTHON-EASY\")\n",
    "    elif lev == 2:\n",
    "        return pd.read_excel(\"C:\\\\Users\\\\Mr.Jadhav\\\\Desktop\\\\PythonDatabase.xlsx\", \"PYTHON-MEDIUM\")\n",
    "    elif lev == 3:\n",
    "        return pd.read_excel(\"C:\\\\Users\\\\Mr.Jadhav\\\\Desktop\\\\PythonDatabase.xlsx\", \"PYTHON-HARD\")\n",
    "    else:\n",
    "        print(\"Invalid choice. Please enter a valid level.\")\n",
    "        return None\n",
    "y=int(input(\"how many questions do you want to solve\"))\n",
    "\n",
    "#FDS QUESTION LEVEL CHOICE\n",
    "def level2():\n",
    "    print(\"\\nChoose level of QUESTIONS\")\n",
    "    print(\"1.EASY\\n2.MEDIUM\\n3.HARD\")\n",
    "    lev = int(input(\"Enter your choice: \"))\n",
    "    if lev == 1:\n",
    "        return pd.read_excel(\"C:\\\\Users\\\\Mr.Jadhav\\\\Desktop\\\\PythonDatabase.xlsx\", \"FDS-EASY\")\n",
    "    elif lev == 2:\n",
    "        return pd.read_excel(\"C:\\\\Users\\\\Mr.Jadhav\\\\Desktop\\\\PythonDatabase.xlsx\", \"FDS-MEDIUM\")\n",
    "    elif lev == 3:\n",
    "        return pd.read_excel(\"C:\\\\Users\\\\Mr.Jadhav\\\\Desktop\\\\PythonDatabase.xlsx\", \"FDS-HARD\")\n",
    "    else:\n",
    "        print(\"Invalid choice. Please enter a valid level.\")\n",
    "        return None\n",
    "    \n",
    "#C LANGUAGE QUESTION CHOICE\n",
    "def level3():\n",
    "    print(\"\\nChoose level of QUESTIONS\")\n",
    "    print(\"1.EASY\\n2.MEDIUM\\n3.HARD\")\n",
    "    lev = int(input(\"Enter your choice: \"))\n",
    "    if lev == 1:\n",
    "        return pd.read_excel(\"C:\\\\Users\\\\Mr.Jadhav\\\\Desktop\\\\PythonDatabase.xlsx\", \"C-EASY\")\n",
    "    elif lev == 2:\n",
    "        return pd.read_excel(\"C:\\\\Users\\\\Mr.Jadhav\\\\Desktop\\\\PythonDatabase.xlsx\", \"C-MEDIUM\")\n",
    "    elif lev == 3:\n",
    "        return pd.read_excel(\"C:\\\\Users\\\\Mr.Jadhav\\\\Desktop\\\\PythonDatabase.xlsx\", \"C-HARD\")\n",
    "    else:\n",
    "        print(\"Invalid choice. Please enter a valid level.\")\n",
    "        return None\n",
    "\n",
    "quiz = sub()\n",
    "if quiz is not None:  \n",
    "    correct = 0\n",
    "    incorrect = 0\n",
    "    cl = ['Sr.No.', 'Question', 'A', 'B', 'C', 'D']\n",
    "    for index, row in quiz.iloc[0:y].iterrows():\n",
    "        print()\n",
    "        print(index+1,row[cl[1]])\n",
    "        print(\"\\tA\",row[cl[2]])\n",
    "        print(\"\\tB\",row[cl[3]])\n",
    "        print(\"\\tC\",row[cl[4]])\n",
    "        print(\"\\tD\",row[cl[5]])\n",
    "\n",
    "\n",
    "       # print(row[cl[1]])\n",
    "        a = input(\"Enter your answer: \").capitalize()\n",
    "        if(a!=\"A\" and a!=\"B\" and a!=\"C\" and a!=\"D\"):\n",
    "            print(\"Invalid Choice\")\n",
    "        elif (a == row['Answer']):\n",
    "            print(\"Correct!\")\n",
    "            correct += 1\n",
    "        else:\n",
    "            print(\"Incorrect!\")\n",
    "            print(\"Correct answer is \",row['Answer'])\n",
    "            incorrect += 1\n",
    "\n",
    "    print(f\"Out of {len(quiz)} \\ncorrectly answered questions are {correct}\\nincorrectly answered questions are {incorrect}\")\n",
    "    print(f\"YOUR SCORE ARE {correct*10}/100\")\n",
    "    f=input(\"DO YOU ENJOY THE QUIZE PLEASE GIVE YOUR FEEDBACK....\")\n",
    "    print(\"THANK YOU.........\")"
   ]
  },
  {
   "cell_type": "code",
   "execution_count": null,
   "id": "2a57befd-cbad-489c-8fbd-9ceab09c6a54",
   "metadata": {},
   "outputs": [],
   "source": []
  },
  {
   "cell_type": "code",
   "execution_count": null,
   "id": "dfea7f9b-de7e-42e3-9b7d-f664f2946a84",
   "metadata": {},
   "outputs": [],
   "source": []
  }
 ],
 "metadata": {
  "kernelspec": {
   "display_name": "Python 3 (ipykernel)",
   "language": "python",
   "name": "python3"
  },
  "language_info": {
   "codemirror_mode": {
    "name": "ipython",
    "version": 3
   },
   "file_extension": ".py",
   "mimetype": "text/x-python",
   "name": "python",
   "nbconvert_exporter": "python",
   "pygments_lexer": "ipython3",
   "version": "3.11.7"
  }
 },
 "nbformat": 4,
 "nbformat_minor": 5
}
